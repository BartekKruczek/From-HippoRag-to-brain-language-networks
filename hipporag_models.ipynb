{
 "metadata": {
  "kernelspec": {
   "language": "python",
   "display_name": "Python 3",
   "name": "python3"
  },
  "language_info": {
   "name": "python",
   "version": "3.10.14",
   "mimetype": "text/x-python",
   "codemirror_mode": {
    "name": "ipython",
    "version": 3
   },
   "pygments_lexer": "ipython3",
   "nbconvert_exporter": "python",
   "file_extension": ".py"
  },
  "kaggle": {
   "accelerator": "nvidiaTeslaT4",
   "dataSources": [
    {
     "sourceId": 10088264,
     "sourceType": "datasetVersion",
     "datasetId": 6220299
    }
   ],
   "dockerImageVersionId": 30805,
   "isInternetEnabled": true,
   "language": "python",
   "sourceType": "notebook",
   "isGpuEnabled": true
  }
 },
 "nbformat_minor": 4,
 "nbformat": 4,
 "cells": [
  {
   "cell_type": "markdown",
   "source": [
    "# Installing libraries"
   ],
   "metadata": {}
  },
  {
   "cell_type": "code",
   "source": [
    "#!pip install transformers sentence-transformers faiss-cpu torch\n",
    "#!pip install requests\n",
    "#!pip install together"
   ],
   "metadata": {
    "trusted": true,
    "execution": {
     "iopub.status.busy": "2024-12-03T14:15:06.152587Z",
     "iopub.execute_input": "2024-12-03T14:15:06.152988Z",
     "iopub.status.idle": "2024-12-03T14:15:06.157073Z",
     "shell.execute_reply.started": "2024-12-03T14:15:06.152956Z",
     "shell.execute_reply": "2024-12-03T14:15:06.156103Z"
    }
   },
   "outputs": [],
   "execution_count": 155
  },
  {
   "cell_type": "markdown",
   "source": [
    "# Imports "
   ],
   "metadata": {}
  },
  {
   "cell_type": "code",
   "source": [
    "from together import Together\n",
    "import re\n",
    "from sentence_transformers import SentenceTransformer\n",
    "import faiss\n",
    "from together import Together\n",
    "import numpy as np"
   ],
   "metadata": {
    "trusted": true,
    "execution": {
     "iopub.status.busy": "2024-12-03T14:15:06.183840Z",
     "iopub.execute_input": "2024-12-03T14:15:06.184102Z",
     "iopub.status.idle": "2024-12-03T14:15:06.188358Z",
     "shell.execute_reply.started": "2024-12-03T14:15:06.184076Z",
     "shell.execute_reply": "2024-12-03T14:15:06.187416Z"
    }
   },
   "outputs": [],
   "execution_count": 156
  },
  {
   "cell_type": "markdown",
   "source": [
    "# The real experiments"
   ],
   "metadata": {}
  },
  {
   "cell_type": "code",
   "source": [
    "def clean_text(text):\n",
    "    \"\"\"Cleans and normalizes the text.\"\"\"\n",
    "    text = re.sub(r'\\s+', ' ', text)\n",
    "    text = re.sub(r'(\\n\\s*)+', '\\n', text)\n",
    "    return text.strip()\n",
    "\n",
    "def prepare_knowledge_base(text):\n",
    "    \"\"\"Splits the document into manageable chunks.\"\"\"\n",
    "    text = clean_text(text)\n",
    "    paragraphs = re.split(r'(§\\s*\\d+\\..*?)(?=§|\\Z)', text)\n",
    "    paragraphs = [p.strip() for p in paragraphs if p.strip()]\n",
    "\n",
    "    final_chunks = []\n",
    "    for p in paragraphs:\n",
    "        if len(p.split()) > 100: \n",
    "            sentences = re.split(r'(?<=[.!?])\\s+', p)\n",
    "            chunk = ''\n",
    "            for s in sentences:\n",
    "                if len(chunk.split()) + len(s.split()) < 100:\n",
    "                    chunk += ' ' + s\n",
    "                else:\n",
    "                    if chunk:\n",
    "                        final_chunks.append(chunk.strip())\n",
    "                    chunk = s\n",
    "            if chunk:\n",
    "                final_chunks.append(chunk.strip())\n",
    "        else:\n",
    "            final_chunks.append(p)\n",
    "    return final_chunks\n",
    "\n",
    "with open(\"../input/regulamin-agh/regulamin_agh.txt\", \"r\", encoding=\"utf-8\") as file:\n",
    "    document_text = file.read()\n",
    "\n",
    "knowledge_base = prepare_knowledge_base(document_text)\n",
    "\n",
    "retriever = SentenceTransformer('all-MiniLM-L6-v2')\n",
    "embeddings = retriever.encode(knowledge_base)\n",
    "dimension = embeddings.shape[1]\n",
    "index = faiss.IndexFlatL2(dimension)\n",
    "index.add(embeddings)\n",
    "\n",
    "def prepare_training_data(queries, answers, knowledge_base, retriever, index):\n",
    "    training_data = []\n",
    "    for query, answer in zip(queries, answers):\n",
    "        print(f\"\\nProcessing query: {query}\")\n",
    "        query_embedding = retriever.encode([query])\n",
    "        _, indices = index.search(query_embedding, k=2)\n",
    "        contexts = [knowledge_base[i] for i in indices[0]]\n",
    "        context = \" \".join(contexts)\n",
    "        print(f\"Retrieved context: {context}\")\n",
    "\n",
    "        training_data.append({\n",
    "            \"query\": query,\n",
    "            \"context\": context,\n",
    "            \"answer\": answer\n",
    "        })\n",
    "    return training_data\n",
    "\n",
    "training_data = prepare_training_data(queries, answers, knowledge_base, retriever, index)\n",
    "\n",
    "print(\"\\nTraining Data:\")\n",
    "for data in training_data:\n",
    "    print(f\"\\nQuery: {data['query']}\")\n",
    "    print(f\"Context: {data['context']}\")\n",
    "    print(f\"Answer: {data['answer']}\")"
   ],
   "metadata": {
    "trusted": true,
    "execution": {
     "iopub.status.busy": "2024-12-03T14:15:06.206027Z",
     "iopub.execute_input": "2024-12-03T14:15:06.206317Z",
     "iopub.status.idle": "2024-12-03T14:15:07.790305Z",
     "shell.execute_reply.started": "2024-12-03T14:15:06.206290Z",
     "shell.execute_reply": "2024-12-03T14:15:07.789386Z"
    }
   },
   "outputs": [
    {
     "output_type": "display_data",
     "data": {
      "text/plain": "Batches:   0%|          | 0/10 [00:00<?, ?it/s]",
      "application/vnd.jupyter.widget-view+json": {
       "version_major": 2,
       "version_minor": 0,
       "model_id": "f04a68c49765479f9a65f86e8693a83a"
      }
     },
     "metadata": {}
    },
    {
     "name": "stdout",
     "text": "\nProcessing query: What are the rules for taking a leave of absence?\n",
     "output_type": "stream"
    },
    {
     "output_type": "display_data",
     "data": {
      "text/plain": "Batches:   0%|          | 0/1 [00:00<?, ?it/s]",
      "application/vnd.jupyter.widget-view+json": {
       "version_major": 2,
       "version_minor": 0,
       "model_id": "4951788966f845cfbb4787fd8eeab1a3"
      }
     },
     "metadata": {}
    },
    {
     "name": "stdout",
     "text": "Retrieved context: The leave a s referred to in section 1 point 1 shall be granted for the period until a child's birth, however, if a leave ends during the semester, it shall be granted until the end of this semester of studies. 5. The leave as referred to in section 1 point 2 shall be gr anted for a period of up to one year, however, if the leave ends during the semester, it shall be granted until the end of this semester of studies. 6. § 20. LEAVE FORM CLASSES 1. The Dean of the Faculty shall grant a student a leave from classes at the University for a period of no longer than one year, subject to section 4 and 5: a) a maternity leave – in case of a pregnant student; b) a parental leave – in case of a student being a parent in order to take care of a child. 2.\n\nProcessing query: What are the conditions for passing a semester?\n",
     "output_type": "stream"
    },
    {
     "output_type": "display_data",
     "data": {
      "text/plain": "Batches:   0%|          | 0/1 [00:00<?, ?it/s]",
      "application/vnd.jupyter.widget-view+json": {
       "version_major": 2,
       "version_minor": 0,
       "model_id": "ea735b768179474d8e812083e0231dce"
      }
     },
     "metadata": {}
    },
    {
     "name": "stdout",
     "text": "Retrieved context: A student, with the consent of the Dean of the Faculty, may also pursue classes not covered by the curriculum for a studied field of study, but once they are placed in a semester timetable a student shall be required to complete them, in accordance with the requirements set out in the Study Regulations, the curriculum, and by a teacher responsible for the course in the syllabus as referred to in § 10 section 6. A semester timetable shall include: 1) all compulsory and elective modules that a student intends to pursue and complete in a given semester, provide d that the assigned number of ECTS credits may not be less than a number of ECTS credits provided for in the study plan for a given semester, ranging from 27 to 33 ECTS credits, and may not be less than 60 ECTS credits for a given year of study, if it last s for two semesters, subject to\n\nProcessing query: How is the grade point average calculated?\n",
     "output_type": "stream"
    },
    {
     "output_type": "display_data",
     "data": {
      "text/plain": "Batches:   0%|          | 0/1 [00:00<?, ?it/s]",
      "application/vnd.jupyter.widget-view+json": {
       "version_major": 2,
       "version_minor": 0,
       "model_id": "26b16c6686db4e38b2f79052c80f63da"
      }
     },
     "metadata": {}
    },
    {
     "name": "stdout",
     "text": "Retrieved context: § 14. GRADE POINT AVERAGE 1. Grade point average (GPA) for a given period of studies shall be a measure of a student academic progress in that period and may be determined for one semester, several semesters and for the entire period of studies. 2. In each case, grade point average shall be a weighted average of all final grades for courses completed in a given period. Weight coefficients shall be ECTS credits assigned to courses: 𝑔𝑟𝑎𝑑𝑒 𝑝𝑜𝑖𝑛𝑡 𝑎𝑣𝑒𝑟𝑎𝑔𝑒 = Ʃ 𝐸𝐶𝑇𝑆 𝑐𝑟𝑒𝑑𝑖𝑡𝑠 𝑎𝑠𝑠𝑖𝑔𝑛𝑒𝑑 𝑡𝑜 𝑎 𝑐𝑜𝑢𝑟𝑠𝑒 ∗𝑓𝑖𝑛𝑎𝑙 𝑔𝑟𝑎𝑑𝑒 𝑓𝑜𝑟 𝑎 𝑐𝑜𝑢𝑟𝑠𝑒 Ʃ 𝐸𝐶𝑇𝑆 𝑐𝑟𝑒𝑑𝑖𝑡𝑠 𝑓𝑜𝑟 𝑐𝑜𝑢𝑟𝑠𝑒𝑠 𝑡𝑎𝑘𝑒𝑛 𝑖𝑛𝑡𝑜 𝑎𝑐𝑐𝑜𝑢𝑛𝑡 𝑤ℎ𝑒𝑛 𝑐𝑎𝑙𝑐𝑢𝑙𝑎𝑡𝑖 𝑛𝑔 𝑔𝑟𝑎𝑑𝑒 𝑝𝑜𝑖𝑛𝑡 𝑎𝑣𝑒𝑟𝑎𝑔𝑒 3. Grade point average shall b e established to two decimal places, without rounding. 4. Additional courses shall be excluded from the calculation of grade point average, i.e. those which a student studies with the consent of the Dean of the Faculty, beyond the curriculum, and those comple ted without a final grade.\n\nProcessing query: What are the rules for repeating a subject?\n",
     "output_type": "stream"
    },
    {
     "output_type": "display_data",
     "data": {
      "text/plain": "Batches:   0%|          | 0/1 [00:00<?, ?it/s]",
      "application/vnd.jupyter.widget-view+json": {
       "version_major": 2,
       "version_minor": 0,
       "model_id": "39386f3e811a4fcba5fa201401bde01d"
      }
     },
     "metadata": {}
    },
    {
     "name": "stdout",
     "text": "Retrieved context: § 18. REPEATING A MODULE OR A COURSE 1. In case of failure to meet conditions for completing a module or a course in a given semester, a student shall be required to repeat it within the time limit specified by the Dean of the Faculty. A request in this matter shall be submitted to the Dean of the Faculty. 2. When repeating a semester of studies, a student shall be required to study according to the curriculum applicable for a given year of education in the semester f or which he/she was registered. 9. When giving a consent to repeat a semester of studies, if necessary, the Dean of the Faculty shall establish in writing curriculum differences and deadlines for their completion. 10.\n\nProcessing query: What are the requirements for graduation?\n",
     "output_type": "stream"
    },
    {
     "output_type": "display_data",
     "data": {
      "text/plain": "Batches:   0%|          | 0/1 [00:00<?, ?it/s]",
      "application/vnd.jupyter.widget-view+json": {
       "version_major": 2,
       "version_minor": 0,
       "model_id": "e284000c96524e3d967db50e440e5ff8"
      }
     },
     "metadata": {}
    },
    {
     "name": "stdout",
     "text": "Retrieved context: § 27. GRADUATION 1. In order to graduate and to obtain a graduation diploma in a given field of study, level and profile, a student shall be required to: 1) achieve all assumed learning outcomes specified in the curriculum; 2) complete all modules provided for in the curriculum; 3) obtain a number of ECTS credit s required by the curriculum; 4) in case of first -cycle degree programmes – submit a diploma project, and in case of second -cycle degree programmes – submit a diploma thesis; 5) pass a diploma examination. 2. § 4. ADMISSION TO STUDIES 1.\n\nTraining Data:\n\nQuery: What are the rules for taking a leave of absence?\nContext: The leave a s referred to in section 1 point 1 shall be granted for the period until a child's birth, however, if a leave ends during the semester, it shall be granted until the end of this semester of studies. 5. The leave as referred to in section 1 point 2 shall be gr anted for a period of up to one year, however, if the leave ends during the semester, it shall be granted until the end of this semester of studies. 6. § 20. LEAVE FORM CLASSES 1. The Dean of the Faculty shall grant a student a leave from classes at the University for a period of no longer than one year, subject to section 4 and 5: a) a maternity leave – in case of a pregnant student; b) a parental leave – in case of a student being a parent in order to take care of a child. 2.\nAnswer: According to §20, students may be granted leave for maternity, parental, health, special circumstances, professional reasons, or without justification, for a period not exceeding one year.\n\nQuery: What are the conditions for passing a semester?\nContext: A student, with the consent of the Dean of the Faculty, may also pursue classes not covered by the curriculum for a studied field of study, but once they are placed in a semester timetable a student shall be required to complete them, in accordance with the requirements set out in the Study Regulations, the curriculum, and by a teacher responsible for the course in the syllabus as referred to in § 10 section 6. A semester timetable shall include: 1) all compulsory and elective modules that a student intends to pursue and complete in a given semester, provide d that the assigned number of ECTS credits may not be less than a number of ECTS credits provided for in the study plan for a given semester, ranging from 27 to 33 ECTS credits, and may not be less than 60 ECTS credits for a given year of study, if it last s for two semesters, subject to\nAnswer: According to §17, passing a semester requires earning 27-33 ECTS credits and completing all modules in the study plan. Students may register for the next semester with an ECTS credit deficit of 6-15 points.\n\nQuery: How is the grade point average calculated?\nContext: § 14. GRADE POINT AVERAGE 1. Grade point average (GPA) for a given period of studies shall be a measure of a student academic progress in that period and may be determined for one semester, several semesters and for the entire period of studies. 2. In each case, grade point average shall be a weighted average of all final grades for courses completed in a given period. Weight coefficients shall be ECTS credits assigned to courses: 𝑔𝑟𝑎𝑑𝑒 𝑝𝑜𝑖𝑛𝑡 𝑎𝑣𝑒𝑟𝑎𝑔𝑒 = Ʃ 𝐸𝐶𝑇𝑆 𝑐𝑟𝑒𝑑𝑖𝑡𝑠 𝑎𝑠𝑠𝑖𝑔𝑛𝑒𝑑 𝑡𝑜 𝑎 𝑐𝑜𝑢𝑟𝑠𝑒 ∗𝑓𝑖𝑛𝑎𝑙 𝑔𝑟𝑎𝑑𝑒 𝑓𝑜𝑟 𝑎 𝑐𝑜𝑢𝑟𝑠𝑒 Ʃ 𝐸𝐶𝑇𝑆 𝑐𝑟𝑒𝑑𝑖𝑡𝑠 𝑓𝑜𝑟 𝑐𝑜𝑢𝑟𝑠𝑒𝑠 𝑡𝑎𝑘𝑒𝑛 𝑖𝑛𝑡𝑜 𝑎𝑐𝑐𝑜𝑢𝑛𝑡 𝑤ℎ𝑒𝑛 𝑐𝑎𝑙𝑐𝑢𝑙𝑎𝑡𝑖 𝑛𝑔 𝑔𝑟𝑎𝑑𝑒 𝑝𝑜𝑖𝑛𝑡 𝑎𝑣𝑒𝑟𝑎𝑔𝑒 3. Grade point average shall b e established to two decimal places, without rounding. 4. Additional courses shall be excluded from the calculation of grade point average, i.e. those which a student studies with the consent of the Dean of the Faculty, beyond the curriculum, and those comple ted without a final grade.\nAnswer: According to §14, the grade point average is calculated as the weighted average of all final grades, where weights are the ECTS credits assigned to each course.\n\nQuery: What are the rules for repeating a subject?\nContext: § 18. REPEATING A MODULE OR A COURSE 1. In case of failure to meet conditions for completing a module or a course in a given semester, a student shall be required to repeat it within the time limit specified by the Dean of the Faculty. A request in this matter shall be submitted to the Dean of the Faculty. 2. When repeating a semester of studies, a student shall be required to study according to the curriculum applicable for a given year of education in the semester f or which he/she was registered. 9. When giving a consent to repeat a semester of studies, if necessary, the Dean of the Faculty shall establish in writing curriculum differences and deadlines for their completion. 10.\nAnswer: According to §18, if a student fails a subject, they must repeat it in a period designated by the Dean. Repeating requires re-attending classes and paying associated fees.\n\nQuery: What are the requirements for graduation?\nContext: § 27. GRADUATION 1. In order to graduate and to obtain a graduation diploma in a given field of study, level and profile, a student shall be required to: 1) achieve all assumed learning outcomes specified in the curriculum; 2) complete all modules provided for in the curriculum; 3) obtain a number of ECTS credit s required by the curriculum; 4) in case of first -cycle degree programmes – submit a diploma project, and in case of second -cycle degree programmes – submit a diploma thesis; 5) pass a diploma examination. 2. § 4. ADMISSION TO STUDIES 1.\nAnswer: According to §27, graduation requires achieving learning outcomes, completing all modules, earning the required ECTS credits, submitting a thesis or project, and passing the diploma examination.\n",
     "output_type": "stream"
    }
   ],
   "execution_count": 157
  },
  {
   "cell_type": "code",
   "source": [
    "queries = [\n",
    "    \"What are the rules for taking a leave of absence?\",\n",
    "    \"What are the conditions for passing a semester?\",\n",
    "    \"How is the grade point average calculated?\",\n",
    "    \"What are the rules for repeating a subject?\",\n",
    "    \"What are the requirements for graduation?\"\n",
    "]\n",
    "\n",
    "answers = [\n",
    "    \"According to §20, students may be granted leave for maternity, parental, health, special circumstances, professional reasons, or without justification, for a period not exceeding one year.\",\n",
    "    \"According to §17, passing a semester requires earning 27-33 ECTS credits and completing all modules in the study plan. Students may register for the next semester with an ECTS credit deficit of 6-15 points.\",\n",
    "    \"According to §14, the grade point average is calculated as the weighted average of all final grades, where weights are the ECTS credits assigned to each course.\",\n",
    "    \"According to §18, if a student fails a subject, they must repeat it in a period designated by the Dean. Repeating requires re-attending classes and paying associated fees.\",\n",
    "    \"According to §27, graduation requires achieving learning outcomes, completing all modules, earning the required ECTS credits, submitting a thesis or project, and passing the diploma examination.\"\n",
    "]"
   ],
   "metadata": {
    "trusted": true,
    "execution": {
     "iopub.status.busy": "2024-12-03T14:15:07.791849Z",
     "iopub.execute_input": "2024-12-03T14:15:07.792141Z",
     "iopub.status.idle": "2024-12-03T14:15:07.797177Z",
     "shell.execute_reply.started": "2024-12-03T14:15:07.792113Z",
     "shell.execute_reply": "2024-12-03T14:15:07.796344Z"
    }
   },
   "outputs": [],
   "execution_count": 158
  },
  {
   "cell_type": "code",
   "source": [
    "client = Together(api_key=\"api_key\")\n",
    "\n",
    "def retrieve_context(query, retriever, index, knowledge_base, top_k=3):\n",
    "    query_embedding = retriever.encode([query])\n",
    "    scores, indices = index.search(query_embedding.reshape(1, -1), top_k)\n",
    "    contexts = []\n",
    "    for i, score in zip(indices[0], scores[0]):\n",
    "        if score < 20:  # Filter by relevance score\n",
    "            contexts.append(knowledge_base[i])\n",
    "    print(f\"Retrieved contexts for query '{query}': {contexts}\")\n",
    "    return contexts\n",
    "\n",
    "def evaluate_predictions(predictions, true_answers):\n",
    "    def calculate_f1(pred, true):\n",
    "        pred_tokens = pred.strip().lower().split()\n",
    "        true_tokens = true.strip().lower().split()\n",
    "        \n",
    "        if not pred_tokens or not true_tokens:\n",
    "            return 0.0, 0.0, 0.0\n",
    "        \n",
    "        common = set(pred_tokens) & set(true_tokens)\n",
    "        precision = len(common) / len(pred_tokens) if pred_tokens else 0\n",
    "        recall = len(common) / len(true_tokens) if true_tokens else 0\n",
    "        f1 = 2 * (precision * recall) / (precision + recall) if (precision + recall) > 0 else 0\n",
    "        \n",
    "        return f1, precision, recall\n",
    "\n",
    "    f1_scores = []\n",
    "    precisions = []\n",
    "    recalls = []\n",
    "    \n",
    "    for pred, true in zip(predictions, true_answers):\n",
    "        f1, precision, recall = calculate_f1(pred, true)\n",
    "        f1_scores.append(f1)\n",
    "        precisions.append(precision)\n",
    "        recalls.append(recall)\n",
    "\n",
    "    return {\n",
    "        \"F1 Score\": sum(f1_scores) / len(f1_scores),\n",
    "        \"Precision\": sum(precisions) / len(precisions),\n",
    "        \"Recall\": sum(recalls) / len(recalls),\n",
    "    }\n",
    "\n",
    "\n",
    "def generate_with_vision_free(query, client, model=\"meta-llama/Llama-Vision-Free\"):\n",
    "    try:\n",
    "        response = client.chat.completions.create(\n",
    "            model=model,\n",
    "            messages=[{\"role\": \"user\", \"content\": query}],\n",
    "            max_tokens=100,\n",
    "            temperature=0.3,\n",
    "            top_p=0.9,\n",
    "            repetition_penalty=1.1,\n",
    "            stop=[\"<|eot_id|>\", \"<|eom_id|>\"],\n",
    "            stream=False\n",
    "        )\n",
    "        return response.choices[0].message.content.strip()\n",
    "    except Exception as e:\n",
    "        print(f\"Error generating response: {e}\")\n",
    "        return \"\"\n",
    "\n",
    "def generate_with_hipporag_and_vision_free(query, retriever, index, knowledge_base, client, model=\"meta-llama/Llama-Vision-Free\"):\n",
    "    try:\n",
    "        contexts = retrieve_context(query, retriever, index, knowledge_base, top_k=3) \n",
    "        \n",
    "        prompt = f\"\"\"Answer the following question based on the provided context. Be specific and concise.\n",
    "Context: {' '.join(contexts)}\n",
    "Question: {query}\n",
    "Key information to include: {', '.join(key_phrases_from_context(contexts))}\n",
    "Answer:\"\"\"\n",
    "        \n",
    "        response = client.chat.completions.create(\n",
    "            model=model,\n",
    "            messages=[\n",
    "                {\"role\": \"system\", \"content\": \"You are a precise QA assistant. Use context to answer questions accurately.\"},\n",
    "                {\"role\": \"user\", \"content\": prompt}\n",
    "            ],\n",
    "            max_tokens=150,  \n",
    "            temperature=0.2,  \n",
    "            top_p=0.9,\n",
    "            repetition_penalty=1.2,\n",
    "            stop=[\"<|eot_id|>\", \"<|eom_id|>\"],\n",
    "            stream=False\n",
    "        )\n",
    "        return response.choices[0].message.content.strip()\n",
    "    except Exception as e:\n",
    "        print(f\"Error generating response: {e}\")\n",
    "        return \"\"\n",
    "\n",
    "def key_phrases_from_context(contexts):\n",
    "    phrases = []\n",
    "    for context in contexts:\n",
    "        important_sentences = [s.strip() for s in context.split('.') if len(s.strip()) > 10]\n",
    "        phrases.extend(important_sentences[:2]) \n",
    "    return phrases[:3] \n",
    "\n",
    "def prepare_training_data(queries, answers, knowledge_base, retriever, index):\n",
    "    training_data = []\n",
    "    for query, answer in zip(queries, answers):\n",
    "        contexts = retrieve_context(query, retriever, index, knowledge_base, top_k=2)\n",
    "        context = \" \".join(contexts)\n",
    "\n",
    "        training_data.append({\n",
    "            \"vision_free_prompt\": query,\n",
    "            \"hipporag_prompt\": f\"Context: {context}\\nQuestion: {query}\",\n",
    "            \"completion\": answer\n",
    "        })\n",
    "    return training_data\n",
    "\n",
    "def train_models(training_data, client, model=\"meta-llama/Llama-Vision-Free\", epochs=3):\n",
    "    for epoch in range(epochs):\n",
    "        print(f\"Epoch {epoch+1}/{epochs}\")\n",
    "        for data in training_data:\n",
    "            response = client.chat.completions.create(\n",
    "                model=model,\n",
    "                messages=[{\"role\": \"user\", \"content\": data[\"vision_free_prompt\"]},\n",
    "                         {\"role\": \"assistant\", \"content\": data[\"completion\"]}],\n",
    "                max_tokens=100,\n",
    "                temperature=0.3,\n",
    "                stop=[\"<|eot_id|>\", \"<|eom_id|>\"]\n",
    "            )\n",
    "            \n",
    "            response = client.chat.completions.create(\n",
    "                model=model,\n",
    "                messages=[{\"role\": \"user\", \"content\": data[\"hipporag_prompt\"]},\n",
    "                         {\"role\": \"assistant\", \"content\": data[\"completion\"]}],\n",
    "                max_tokens=100,\n",
    "                temperature=0.3,\n",
    "                stop=[\"<|eot_id|>\", \"<|eom_id|>\"]\n",
    "            )\n",
    "\n",
    "training_data = prepare_training_data(queries, answers, knowledge_base, retriever, index)\n",
    "train_models(training_data, client)\n",
    "\n",
    "vision_free_predictions = [generate_with_vision_free(query, client) for query in queries]\n",
    "print(\"\\nVision-Free Predictions:\")\n",
    "for pred, true in zip(vision_free_predictions, answers):\n",
    "    print(f\"\\nPrediction: {pred}\")\n",
    "    print(f\"True: {true}\")\n",
    "\n",
    "hipporag_predictions = [generate_with_hipporag_and_vision_free(query, retriever, index, knowledge_base, client) for query in queries]\n",
    "print(\"\\nHippoRAG Predictions:\")\n",
    "for pred, true in zip(hipporag_predictions, answers):\n",
    "    print(f\"\\nPrediction: {pred}\")\n",
    "    print(f\"True: {true}\")\n",
    "\n",
    "print(\"\\nEvaluation Results:\")\n",
    "print(\"Vision-Free:\", evaluate_predictions(vision_free_predictions, answers))\n",
    "print(\"HippoRAG:\", evaluate_predictions(hipporag_predictions, answers))"
   ],
   "metadata": {
    "trusted": true,
    "execution": {
     "iopub.status.busy": "2024-12-03T14:24:22.566541Z",
     "iopub.execute_input": "2024-12-03T14:24:22.566941Z",
     "iopub.status.idle": "2024-12-03T14:28:35.584905Z",
     "shell.execute_reply.started": "2024-12-03T14:24:22.566906Z",
     "shell.execute_reply": "2024-12-03T14:28:35.583925Z"
    }
   },
   "outputs": [
    {
     "output_type": "display_data",
     "data": {
      "text/plain": "Batches:   0%|          | 0/1 [00:00<?, ?it/s]",
      "application/vnd.jupyter.widget-view+json": {
       "version_major": 2,
       "version_minor": 0,
       "model_id": "e071ccb35263461dbd1008ad358edab0"
      }
     },
     "metadata": {}
    },
    {
     "name": "stdout",
     "text": "Retrieved contexts for query 'What are the rules for taking a leave of absence?': [\"The leave a s referred to in section 1 point 1 shall be granted for the period until a child's birth, however, if a leave ends during the semester, it shall be granted until the end of this semester of studies. 5. The leave as referred to in section 1 point 2 shall be gr anted for a period of up to one year, however, if the leave ends during the semester, it shall be granted until the end of this semester of studies. 6.\", '§ 20. LEAVE FORM CLASSES 1. The Dean of the Faculty shall grant a student a leave from classes at the University for a period of no longer than one year, subject to section 4 and 5: a) a maternity leave – in case of a pregnant student; b) a parental leave – in case of a student being a parent in order to take care of a child. 2.']\n",
     "output_type": "stream"
    },
    {
     "output_type": "display_data",
     "data": {
      "text/plain": "Batches:   0%|          | 0/1 [00:00<?, ?it/s]",
      "application/vnd.jupyter.widget-view+json": {
       "version_major": 2,
       "version_minor": 0,
       "model_id": "6c2acd36461d45feba0df2135b9f759b"
      }
     },
     "metadata": {}
    },
    {
     "name": "stdout",
     "text": "Retrieved contexts for query 'What are the conditions for passing a semester?': ['A student, with the consent of the Dean of the Faculty, may also pursue classes not covered by the curriculum for a studied field of study, but once they are placed in a semester timetable a student shall be required to complete them, in accordance with the requirements set out in the Study Regulations, the curriculum, and by a teacher responsible for the course in the syllabus as referred to in § 10 section 6.', 'A semester timetable shall include: 1) all compulsory and elective modules that a student intends to pursue and complete in a given semester, provide d that the assigned number of ECTS credits may not be less than a number of ECTS credits provided for in the study plan for a given semester, ranging from 27 to 33 ECTS credits, and may not be less than 60 ECTS credits for a given year of study, if it last s for two semesters, subject to']\n",
     "output_type": "stream"
    },
    {
     "output_type": "display_data",
     "data": {
      "text/plain": "Batches:   0%|          | 0/1 [00:00<?, ?it/s]",
      "application/vnd.jupyter.widget-view+json": {
       "version_major": 2,
       "version_minor": 0,
       "model_id": "b2bd6996ee86496caf46bc5bd095b9a8"
      }
     },
     "metadata": {}
    },
    {
     "name": "stdout",
     "text": "Retrieved contexts for query 'How is the grade point average calculated?': ['§ 14. GRADE POINT AVERAGE 1. Grade point average (GPA) for a given period of studies shall be a measure of a student academic progress in that period and may be determined for one semester, several semesters and for the entire period of studies. 2. In each case, grade point average shall be a weighted average of all final grades for courses completed in a given period.', 'Weight coefficients shall be ECTS credits assigned to courses: 𝑔𝑟𝑎𝑑𝑒 𝑝𝑜𝑖𝑛𝑡 𝑎𝑣𝑒𝑟𝑎𝑔𝑒 = Ʃ 𝐸𝐶𝑇𝑆 𝑐𝑟𝑒𝑑𝑖𝑡𝑠 𝑎𝑠𝑠𝑖𝑔𝑛𝑒𝑑 𝑡𝑜 𝑎 𝑐𝑜𝑢𝑟𝑠𝑒 ∗𝑓𝑖𝑛𝑎𝑙 𝑔𝑟𝑎𝑑𝑒 𝑓𝑜𝑟 𝑎 𝑐𝑜𝑢𝑟𝑠𝑒 Ʃ 𝐸𝐶𝑇𝑆 𝑐𝑟𝑒𝑑𝑖𝑡𝑠 𝑓𝑜𝑟 𝑐𝑜𝑢𝑟𝑠𝑒𝑠 𝑡𝑎𝑘𝑒𝑛 𝑖𝑛𝑡𝑜 𝑎𝑐𝑐𝑜𝑢𝑛𝑡 𝑤ℎ𝑒𝑛 𝑐𝑎𝑙𝑐𝑢𝑙𝑎𝑡𝑖 𝑛𝑔 𝑔𝑟𝑎𝑑𝑒 𝑝𝑜𝑖𝑛𝑡 𝑎𝑣𝑒𝑟𝑎𝑔𝑒 3. Grade point average shall b e established to two decimal places, without rounding. 4. Additional courses shall be excluded from the calculation of grade point average, i.e. those which a student studies with the consent of the Dean of the Faculty, beyond the curriculum, and those comple ted without a final grade.']\n",
     "output_type": "stream"
    },
    {
     "output_type": "display_data",
     "data": {
      "text/plain": "Batches:   0%|          | 0/1 [00:00<?, ?it/s]",
      "application/vnd.jupyter.widget-view+json": {
       "version_major": 2,
       "version_minor": 0,
       "model_id": "1c626641889d4bb58787094d4b5320cf"
      }
     },
     "metadata": {}
    },
    {
     "name": "stdout",
     "text": "Retrieved contexts for query 'What are the rules for repeating a subject?': ['§ 18. REPEATING A MODULE OR A COURSE 1. In case of failure to meet conditions for completing a module or a course in a given semester, a student shall be required to repeat it within the time limit specified by the Dean of the Faculty. A request in this matter shall be submitted to the Dean of the Faculty. 2.', 'When repeating a semester of studies, a student shall be required to study according to the curriculum applicable for a given year of education in the semester f or which he/she was registered. 9. When giving a consent to repeat a semester of studies, if necessary, the Dean of the Faculty shall establish in writing curriculum differences and deadlines for their completion. 10.']\n",
     "output_type": "stream"
    },
    {
     "output_type": "display_data",
     "data": {
      "text/plain": "Batches:   0%|          | 0/1 [00:00<?, ?it/s]",
      "application/vnd.jupyter.widget-view+json": {
       "version_major": 2,
       "version_minor": 0,
       "model_id": "8badfdd28b0647989e7d9e2c93043183"
      }
     },
     "metadata": {}
    },
    {
     "name": "stdout",
     "text": "Retrieved contexts for query 'What are the requirements for graduation?': ['§ 27. GRADUATION 1. In order to graduate and to obtain a graduation diploma in a given field of study, level and profile, a student shall be required to: 1) achieve all assumed learning outcomes specified in the curriculum; 2) complete all modules provided for in the curriculum; 3) obtain a number of ECTS credit s required by the curriculum; 4) in case of first -cycle degree programmes – submit a diploma project, and in case of second -cycle degree programmes – submit a diploma thesis; 5) pass a diploma examination. 2.', '§ 4. ADMISSION TO STUDIES 1.']\nEpoch 1/3\nEpoch 2/3\nEpoch 3/3\n\nVision-Free Predictions:\n\nPrediction: The rules for taking a leave of absence (LOA) can vary depending on your employer, industry, and location. However, here are some general guidelines:\n\n**Types of Leaves:**\n\n1. **Medical Leave:** For employees who need time off due to illness or injury.\n2. **Family and Medical Leave Act (FMLA):** A federal law that provides eligible employees with up to 12 weeks of unpaid leave for certain family and medical reasons.\n3. **Paid Time Off (PT\nTrue: According to §20, students may be granted leave for maternity, parental, health, special circumstances, professional reasons, or without justification, for a period not exceeding one year.\n\nPrediction: The conditions for passing a semester vary depending on the institution, department, or program. However, here are some common requirements that students typically need to meet to pass a semester:\n\n1. **Minimum GPA**: Most institutions require students to maintain a minimum cumulative grade point average (GPA) of 2.0 or higher to pass a semester.\n2. **Credit completion**: Students must complete all required credits for the semester with a passing grade (usually C- or higher).\n3. **Passing\nTrue: According to §17, passing a semester requires earning 27-33 ECTS credits and completing all modules in the study plan. Students may register for the next semester with an ECTS credit deficit of 6-15 points.\n\nPrediction: The grade point average (GPA) is a calculation used to determine a student's academic performance based on their grades in various courses. The GPA is usually calculated by assigning a numerical value, called a grade point, to each letter grade earned by a student. Here's how it typically works:\n\n**Standard GPA Scale:**\n\n* A = 4.0\n* B = 3.0\n* C = 2.0\n* D = 1.0\n* F =\nTrue: According to §14, the grade point average is calculated as the weighted average of all final grades, where weights are the ECTS credits assigned to each course.\n\nPrediction: In music, \"repeating a subject\" refers to a technique used in musical composition, particularly in forms like sonata form and rondo form. The term \"subject\" here doesn't refer to a person or entity but rather to a melodic idea or theme that is repeated throughout the piece.\n\nThe rules for repeating a subject can vary depending on the specific musical context and the style of the composer, but there are some general guidelines:\n\n1. **Thematic unity**: One of the primary goals\nTrue: According to §18, if a student fails a subject, they must repeat it in a period designated by the Dean. Repeating requires re-attending classes and paying associated fees.\n\nPrediction: The requirements for graduation vary depending on the institution, degree level, and field of study. Here are some general requirements that are commonly found in most colleges and universities:\n\n**Undergraduate Degree Requirements:**\n\n1. **Credit Hours:** Complete a minimum number of credit hours required by the institution (typically 120-128 credits).\n2. **General Education Courses:** Complete a set of core courses in areas such as English, mathematics, science, social sciences, and humanities.\n3. **Major-Specific\nTrue: According to §27, graduation requires achieving learning outcomes, completing all modules, earning the required ECTS credits, submitting a thesis or project, and passing the diploma examination.\n",
     "output_type": "stream"
    },
    {
     "output_type": "display_data",
     "data": {
      "text/plain": "Batches:   0%|          | 0/1 [00:00<?, ?it/s]",
      "application/vnd.jupyter.widget-view+json": {
       "version_major": 2,
       "version_minor": 0,
       "model_id": "14d70fd588ee493ca27ddb48e33a01a8"
      }
     },
     "metadata": {}
    },
    {
     "name": "stdout",
     "text": "Retrieved contexts for query 'What are the rules for taking a leave of absence?': [\"The leave a s referred to in section 1 point 1 shall be granted for the period until a child's birth, however, if a leave ends during the semester, it shall be granted until the end of this semester of studies. 5. The leave as referred to in section 1 point 2 shall be gr anted for a period of up to one year, however, if the leave ends during the semester, it shall be granted until the end of this semester of studies. 6.\", '§ 20. LEAVE FORM CLASSES 1. The Dean of the Faculty shall grant a student a leave from classes at the University for a period of no longer than one year, subject to section 4 and 5: a) a maternity leave – in case of a pregnant student; b) a parental leave – in case of a student being a parent in order to take care of a child. 2.', '§ 10 section 6. 1a. Taking an examination shall be admissible only after completing the classes. 2. Subject to section 2a, a student shall have a right to take an examination three times on scheduled dates, including once on a main date and twice on retake dates. Unexcused absence during the examination on a given date shall result in deprivation of the right to take the examination on that date. 2a.']\n",
     "output_type": "stream"
    },
    {
     "output_type": "display_data",
     "data": {
      "text/plain": "Batches:   0%|          | 0/1 [00:00<?, ?it/s]",
      "application/vnd.jupyter.widget-view+json": {
       "version_major": 2,
       "version_minor": 0,
       "model_id": "f601213aac494809b65cd4831434eab3"
      }
     },
     "metadata": {}
    },
    {
     "name": "stdout",
     "text": "Retrieved contexts for query 'What are the conditions for passing a semester?': ['A student, with the consent of the Dean of the Faculty, may also pursue classes not covered by the curriculum for a studied field of study, but once they are placed in a semester timetable a student shall be required to complete them, in accordance with the requirements set out in the Study Regulations, the curriculum, and by a teacher responsible for the course in the syllabus as referred to in § 10 section 6.', 'A semester timetable shall include: 1) all compulsory and elective modules that a student intends to pursue and complete in a given semester, provide d that the assigned number of ECTS credits may not be less than a number of ECTS credits provided for in the study plan for a given semester, ranging from 27 to 33 ECTS credits, and may not be less than 60 ECTS credits for a given year of study, if it last s for two semesters, subject to', 'In case of failure to complete a semester of studies or failure to register for a given semester within the ti me limit specified in section 6, the Dean of the Faculty shall decide whether a student is required to repeat a semester of studies, or whether a student may be granted a leave from classes or whether to initiate a procedure to expel a student from the lis t of students, depending on a hitherto course of studies.']\n",
     "output_type": "stream"
    },
    {
     "output_type": "display_data",
     "data": {
      "text/plain": "Batches:   0%|          | 0/1 [00:00<?, ?it/s]",
      "application/vnd.jupyter.widget-view+json": {
       "version_major": 2,
       "version_minor": 0,
       "model_id": "81766e34950e4bdf8c8d012f3a5b127d"
      }
     },
     "metadata": {}
    },
    {
     "name": "stdout",
     "text": "Retrieved contexts for query 'How is the grade point average calculated?': ['§ 14. GRADE POINT AVERAGE 1. Grade point average (GPA) for a given period of studies shall be a measure of a student academic progress in that period and may be determined for one semester, several semesters and for the entire period of studies. 2. In each case, grade point average shall be a weighted average of all final grades for courses completed in a given period.', 'Weight coefficients shall be ECTS credits assigned to courses: 𝑔𝑟𝑎𝑑𝑒 𝑝𝑜𝑖𝑛𝑡 𝑎𝑣𝑒𝑟𝑎𝑔𝑒 = Ʃ 𝐸𝐶𝑇𝑆 𝑐𝑟𝑒𝑑𝑖𝑡𝑠 𝑎𝑠𝑠𝑖𝑔𝑛𝑒𝑑 𝑡𝑜 𝑎 𝑐𝑜𝑢𝑟𝑠𝑒 ∗𝑓𝑖𝑛𝑎𝑙 𝑔𝑟𝑎𝑑𝑒 𝑓𝑜𝑟 𝑎 𝑐𝑜𝑢𝑟𝑠𝑒 Ʃ 𝐸𝐶𝑇𝑆 𝑐𝑟𝑒𝑑𝑖𝑡𝑠 𝑓𝑜𝑟 𝑐𝑜𝑢𝑟𝑠𝑒𝑠 𝑡𝑎𝑘𝑒𝑛 𝑖𝑛𝑡𝑜 𝑎𝑐𝑐𝑜𝑢𝑛𝑡 𝑤ℎ𝑒𝑛 𝑐𝑎𝑙𝑐𝑢𝑙𝑎𝑡𝑖 𝑛𝑔 𝑔𝑟𝑎𝑑𝑒 𝑝𝑜𝑖𝑛𝑡 𝑎𝑣𝑒𝑟𝑎𝑔𝑒 3. Grade point average shall b e established to two decimal places, without rounding. 4. Additional courses shall be excluded from the calculation of grade point average, i.e. those which a student studies with the consent of the Dean of the Faculty, beyond the curriculum, and those comple ted without a final grade.', 'The notati on “zal.” [Polish equivalent of “passed” ] shall have no equivalent in a numerical grade and may not be taken into account when calculating the grade point average for a given period of studies.']\n",
     "output_type": "stream"
    },
    {
     "output_type": "display_data",
     "data": {
      "text/plain": "Batches:   0%|          | 0/1 [00:00<?, ?it/s]",
      "application/vnd.jupyter.widget-view+json": {
       "version_major": 2,
       "version_minor": 0,
       "model_id": "0630a6f62a5d4569a62a8304ed661a8e"
      }
     },
     "metadata": {}
    },
    {
     "name": "stdout",
     "text": "Retrieved contexts for query 'What are the rules for repeating a subject?': ['§ 18. REPEATING A MODULE OR A COURSE 1. In case of failure to meet conditions for completing a module or a course in a given semester, a student shall be required to repeat it within the time limit specified by the Dean of the Faculty. A request in this matter shall be submitted to the Dean of the Faculty. 2.', 'When repeating a semester of studies, a student shall be required to study according to the curriculum applicable for a given year of education in the semester f or which he/she was registered. 9. When giving a consent to repeat a semester of studies, if necessary, the Dean of the Faculty shall establish in writing curriculum differences and deadlines for their completion. 10.', 'In exceptional, particularly justified cases, the Dean of the F aculty may, once at each level of studies, agree to repeat a semester of studies once again. 5. The rule referred to in section 3 and 4, shall not apply to part -time students. 6. When repeating a semester of studies, a student shall not be required to repeat alr eady completed courses. 7. A student shall have no right to repeat the first semester of studies. 8.']\n",
     "output_type": "stream"
    },
    {
     "output_type": "display_data",
     "data": {
      "text/plain": "Batches:   0%|          | 0/1 [00:00<?, ?it/s]",
      "application/vnd.jupyter.widget-view+json": {
       "version_major": 2,
       "version_minor": 0,
       "model_id": "ba7ab335ffcc46cba25a2a8dcc9ac755"
      }
     },
     "metadata": {}
    },
    {
     "name": "stdout",
     "text": "Retrieved contexts for query 'What are the requirements for graduation?': ['§ 27. GRADUATION 1. In order to graduate and to obtain a graduation diploma in a given field of study, level and profile, a student shall be required to: 1) achieve all assumed learning outcomes specified in the curriculum; 2) complete all modules provided for in the curriculum; 3) obtain a number of ECTS credit s required by the curriculum; 4) in case of first -cycle degree programmes – submit a diploma project, and in case of second -cycle degree programmes – submit a diploma thesis; 5) pass a diploma examination. 2.', '§ 4. ADMISSION TO STUDIES 1.', 'In order to graduate and obtain a graduation diploma in a given field, level and profile, a student shall be required to obtain: 1) for the first -cycle degree programme (bachelor programmes) – at least 180 ECTS credits; 2) for the first -cycle degree pr ogramme (engineer programmes) – at least 210 ECTS credits; 3) for the second -cycle degree programme (master programmes) – at least: 120 or 150 ECTS credits, depending on the duration of the studies; 4) for the second -cycle degree programme (master programmes in engineering) – at least: 90 or 120 or 150 ECTS credits, depending on the duration of the studies.']\n\nHippoRAG Predictions:\n\nPrediction: According to the text, there are two types of leaves:\n\n* Leave (section 1 point 1): Granted until a child's birth or until the end of the current semester, whichever is later.\n* Leave (section 1 point 2): Granted for up to one year, but extended until the end of the current semester if the original duration would expire within the semester.\n\nAdditionally, under \"LEAVE FROM CLASSES\" (§ 20), students may also apply for:\n* Maternity leave (up to one year)\n* Parental leave (up to one year)\n\nAll leaves must comply with sections 4 and 5.\nTrue: According to §20, students may be granted leave for maternity, parental, health, special circumstances, professional reasons, or without justification, for a period not exceeding one year.\n\nPrediction: There is no explicit condition mentioned for \"passing\" a semester in the provided text. However, there are conditions related to completing a semester:\n\n* Completing all compulsory and elective modules included in the semester timetable (§ 10).\n* Achieving an assigned number of ECTS credits:\n\t+ At least 27-33 ECTS credits per semester.\n\t+ At least 60 ECTS credits per academic year (if it lasts for two semesters).\nTrue: According to §17, passing a semester requires earning 27-33 ECTS credits and completing all modules in the study plan. Students may register for the next semester with an ECTS credit deficit of 6-15 points.\n\nPrediction: The grade point average is calculated as a weighted average of all final grades for courses completed in a given period, using weight coefficients equal to the ECTS credits assigned to each course:\n\ngrade point average = Σ (ECTS credits * final grade) / Σ ECTS credits\nTrue: According to §14, the grade point average is calculated as the weighted average of all final grades, where weights are the ECTS credits assigned to each course.\n\nPrediction: A student must repeat a failed module or course within the specified time frame set by the Dean of the Faculty. Additionally, when repeating a semester, they must follow the original curriculum from that semester's academic year.\nTrue: According to §18, if a student fails a subject, they must repeat it in a period designated by the Dean. Repeating requires re-attending classes and paying associated fees.\n\nPrediction: To graduate, a student must:\n\n* Achieve all assumed learning outcomes specified in the curriculum;\n* Complete all modules provided for in the curriculum;\n* Obtain the required number of ECTS credits as per the curriculum;\n* Submit either a diploma project (for first-cycle programs) or a diploma thesis (for second-cycle programs);\n* Pass a diploma examination.\n\nNote that the exact number of ECTS credits varies depending on the program type and duration, but this is not explicitly stated under \"GRADUATION\". The relevant details can be found under \"ADMISSION TO STUDIES\" section which outlines the minimum ECTS credits required for each program type.\nTrue: According to §27, graduation requires achieving learning outcomes, completing all modules, earning the required ECTS credits, submitting a thesis or project, and passing the diploma examination.\n\nEvaluation Results:\nVision-Free: {'F1 Score': 0.13507957311364913, 'Precision': 0.09369979690587549, 'Recall': 0.24374536139242023}\nHippoRAG: {'F1 Score': 0.2642704126578538, 'Precision': 0.19936552425986281, 'Recall': 0.433127439009792}\n",
     "output_type": "stream"
    }
   ],
   "execution_count": 161
  }
 ]
}
